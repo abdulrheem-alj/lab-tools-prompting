{
 "cells": [
  {
   "cell_type": "markdown",
   "id": "77f66dbe-192b-471c-9cb8-e9b365e61bbb",
   "metadata": {},
   "source": [
    "# Lab | Tools prompting\n",
    "\n",
    "**Replace the existing two tools decorators, by creating 3 new ones and adjust the prompts accordingly**"
   ]
  },
  {
   "cell_type": "markdown",
   "id": "14b94240",
   "metadata": {},
   "source": [
    "### How to add ad-hoc tool calling capability to LLMs and Chat Models\n",
    "\n",
    ":::{.callout-caution}\n",
    "\n",
    "Some models have been fine-tuned for tool calling and provide a dedicated API for tool calling. Generally, such models are better at tool calling than non-fine-tuned models, and are recommended for use cases that require tool calling. Please see the [how to use a chat model to call tools](https://python.langchain.com/docs/how_to/tool_calling/) guide for more information.\n",
    "\n",
    "In this guide, we'll see how to add **ad-hoc** tool calling support to a chat model. This is an alternative method to invoke tools if you're using a model that does not natively support tool calling.\n",
    "\n",
    "We'll do this by simply writing a prompt that will get the model to invoke the appropriate tools. Here's a diagram of the logic:\n",
    "\n",
    "<br>\n",
    "\n",
    "![chain](https://education-team-2020.s3.eu-west-1.amazonaws.com/ai-eng/tool_chain.svg)"
   ]
  },
  {
   "cell_type": "markdown",
   "id": "a0a22cb8-19e7-450a-9d1b-6848d2c81cd1",
   "metadata": {},
   "source": [
    "## Setup\n",
    "\n",
    "We'll need to install the following packages:"
   ]
  },
  {
   "cell_type": "code",
   "execution_count": 9,
   "id": "8c556c5e-b785-428b-8e7d-efd34a2a1adb",
   "metadata": {},
   "outputs": [
    {
     "name": "stdout",
     "output_type": "stream",
     "text": [
      "Note: you may need to restart the kernel to use updated packages.\n"
     ]
    },
    {
     "name": "stderr",
     "output_type": "stream",
     "text": [
      "\n",
      "[notice] A new release of pip is available: 24.0 -> 25.0.1\n",
      "[notice] To update, run: C:\\Users\\gooor\\AppData\\Local\\Microsoft\\WindowsApps\\PythonSoftwareFoundation.Python.3.11_qbz5n2kfra8p0\\python.exe -m pip install --upgrade pip\n"
     ]
    }
   ],
   "source": [
    "%pip install --upgrade --quiet langchain langchain-community langchain_openai"
   ]
  },
  {
   "cell_type": "markdown",
   "id": "897bc01e-cc2b-4400-8a64-db4aa56085d3",
   "metadata": {},
   "source": [
    "If you'd like to use LangSmith, uncomment the below:"
   ]
  },
  {
   "cell_type": "code",
   "execution_count": 10,
   "id": "5efb4170-b95b-4d29-8f57-09509f3ba6df",
   "metadata": {},
   "outputs": [],
   "source": [
    "import getpass\n",
    "import os\n",
    "# os.environ[\"LANGCHAIN_TRACING_V2\"] = \"true\"\n",
    "# os.environ[\"LANGCHAIN_API_KEY\"] = getpass.getpass()"
   ]
  },
  {
   "cell_type": "markdown",
   "id": "7ec6409b-21e5-4d0a-8a46-c4ef0b055dd3",
   "metadata": {},
   "source": [
    "You can select any of the given models for this how-to guide. Keep in mind that most of these models already [support native tool calling](https://python.langchain.com/docs/integrations/chat), so using the prompting strategy shown here doesn't make sense for these models, and instead you should follow the [how to use a chat model to call tools](https://python.langchain.com/docs/how_to/tool_calling/) guide.\n",
    "\n",
    "```{=mdx}\n",
    "import ChatModelTabs from \"@theme/ChatModelTabs\";\n",
    "\n",
    "<ChatModelTabs openaiParams={`model=\"gpt-4\"`} />\n",
    "```\n",
    "\n",
    "To illustrate the idea, we'll use `phi3` via Ollama, which does **NOT** have native support for tool calling. If you'd like to use `Ollama` as well follow [these instructions](https://python.langchain.com/docs/integrations/chat/ollama)."
   ]
  },
  {
   "cell_type": "code",
   "execution_count": 11,
   "id": "424be968-2806-4d1a-a6aa-5499ae20fac5",
   "metadata": {},
   "outputs": [],
   "source": [
    "from langchain_community.llms import Ollama\n",
    "\n",
    "model = Ollama(model=\"phi3\")"
   ]
  },
  {
   "cell_type": "markdown",
   "id": "a88a1463",
   "metadata": {},
   "source": [
    "\n",
    "#  How to Install and Run Ollama with the Phi-3 Model\n",
    "\n",
    "This guide walks you through installing **Ollama** and running the **Phi-3** model on Windows, macOS, and Linux.\n",
    "\n",
    "---\n",
    "\n",
    "## Windows\n",
    "\n",
    "1. **Download Ollama for Windows**  \n",
    "   Go to: [https://ollama.com/download](https://ollama.com/download)  \n",
    "   Download and run the installer.\n",
    "\n",
    "2. **Verify Installation**  \n",
    "   Open **Command Prompt** and type:\n",
    "   ```bash\n",
    "   ollama --version\n",
    "   ```\n",
    "\n",
    "3. **Run the Phi-3 Model**  \n",
    "   In the same terminal:\n",
    "   ```bash\n",
    "   ollama run phi3\n",
    "   ```\n",
    "\n",
    "4. **If you get a CUDA error (GPU memory issue)**  \n",
    "   Run Ollama in **CPU mode**:\n",
    "   ```bash\n",
    "   set OLLAMA_NO_CUDA=1\n",
    "   ollama run phi3\n",
    "   ```\n",
    "\n",
    "---\n",
    "\n",
    "##  macOS\n",
    "\n",
    "1. **Install via Homebrew**  \n",
    "   Open the Terminal and run:\n",
    "   ```bash\n",
    "   brew install ollama\n",
    "   ```\n",
    "\n",
    "2. **Run the Phi-3 Model**\n",
    "   ```bash\n",
    "   ollama run phi3\n",
    "   ```\n",
    "\n",
    "3. **To force CPU mode (no GPU)**\n",
    "   ```bash\n",
    "   export OLLAMA_NO_CUDA=1\n",
    "   ollama run phi3\n",
    "   ```\n",
    "\n",
    "---\n",
    "\n",
    "##  Linux\n",
    "\n",
    "1. **Install Ollama**  \n",
    "   Open a terminal and run:\n",
    "   ```bash\n",
    "   curl -fsSL https://ollama.com/install.sh | sh\n",
    "   ```\n",
    "\n",
    "2. **Run the Phi-3 Model**\n",
    "   ```bash\n",
    "   ollama run phi3\n",
    "   ```\n",
    "\n",
    "3. **To force CPU mode (no GPU)**\n",
    "   ```bash\n",
    "   export OLLAMA_NO_CUDA=1\n",
    "   ollama run phi3\n",
    "   ```\n",
    "\n",
    "---\n",
    "\n",
    "##  Notes\n",
    "\n",
    "- The first time you run `ollama run phi3`, it will **download the model**, so make sure you’re connected to the internet.\n",
    "- Once downloaded, it works **offline**.\n",
    "- Keep the terminal open and running in the background while using Ollama from your code or notebook.\n"
   ]
  },
  {
   "cell_type": "markdown",
   "id": "68946881",
   "metadata": {},
   "source": [
    "## Create a tool\n",
    "\n",
    "First, let's create an `add` and `multiply` tools. For more information on creating custom tools, please see [this guide](https://python.langchain.com/docs/how_to/custom_tools/)."
   ]
  },
  {
   "cell_type": "code",
   "execution_count": 12,
   "id": "4548e6fa-0f9b-4d7a-8fa5-66cec0350e5f",
   "metadata": {},
   "outputs": [
    {
     "name": "stdout",
     "output_type": "stream",
     "text": [
      "--\n",
      "multiply\n",
      "Multiply two numbers together.\n",
      "{'x': {'title': 'X', 'type': 'number'}, 'y': {'title': 'Y', 'type': 'number'}}\n",
      "--\n",
      "add\n",
      "Add two numbers.\n",
      "{'x': {'title': 'X', 'type': 'integer'}, 'y': {'title': 'Y', 'type': 'integer'}}\n"
     ]
    }
   ],
   "source": [
    "from langchain_core.tools import tool\n",
    "\n",
    "\n",
    "@tool\n",
    "def multiply(x: float, y: float) -> float:\n",
    "    \"\"\"Multiply two numbers together.\"\"\"\n",
    "    return x * y\n",
    "\n",
    "\n",
    "@tool\n",
    "def add(x: int, y: int) -> int:\n",
    "    \"Add two numbers.\"\n",
    "    return x + y\n",
    "\n",
    "\n",
    "tools = [multiply, add]\n",
    "\n",
    "# Let's inspect the tools\n",
    "for t in tools:\n",
    "    print(\"--\")\n",
    "    print(t.name)\n",
    "    print(t.description)\n",
    "    print(t.args)"
   ]
  },
  {
   "cell_type": "code",
   "execution_count": 13,
   "id": "be77e780",
   "metadata": {},
   "outputs": [
    {
     "data": {
      "text/plain": [
       "20.0"
      ]
     },
     "execution_count": 13,
     "metadata": {},
     "output_type": "execute_result"
    }
   ],
   "source": [
    "multiply.invoke({\"x\": 4, \"y\": 5})"
   ]
  },
  {
   "cell_type": "markdown",
   "id": "15dd690e-e54d-4209-91a4-181f69a452ac",
   "metadata": {},
   "source": [
    "## Creating our prompt\n",
    "\n",
    "We'll want to write a prompt that specifies the tools the model has access to, the arguments to those tools, and the desired output format of the model. In this case we'll instruct it to output a JSON blob of the form `{\"name\": \"...\", \"arguments\": {...}}`."
   ]
  },
  {
   "cell_type": "code",
   "execution_count": 14,
   "id": "2063b564-25ca-4729-a45f-ba4633175b04",
   "metadata": {},
   "outputs": [
    {
     "name": "stdout",
     "output_type": "stream",
     "text": [
      "multiply(x: float, y: float) -> float - Multiply two numbers together.\n",
      "add(x: int, y: int) -> int - Add two numbers.\n"
     ]
    }
   ],
   "source": [
    "from langchain_core.output_parsers import JsonOutputParser\n",
    "from langchain_core.prompts import ChatPromptTemplate\n",
    "from langchain_core.tools import render_text_description\n",
    "\n",
    "rendered_tools = render_text_description(tools)\n",
    "print(rendered_tools)"
   ]
  },
  {
   "cell_type": "code",
   "execution_count": 15,
   "id": "f02f1dce-76e7-4ca9-9bac-5af496131fe1",
   "metadata": {},
   "outputs": [],
   "source": [
    "from langchain_core.output_parsers import JsonOutputParser\n",
    "from langchain.prompts import ChatPromptTemplate\n",
    "\n",
    "parser = JsonOutputParser()\n",
    "\n",
    "system_prompt = f\"\"\"\\ \n",
    "You are an assistant that has access to the following set of tools. \n",
    "Here are the names and descriptions for each tool:\n",
    "\n",
    "{rendered_tools}\n",
    "\n",
    "Given the user input, return the name and input of the tool to use. \n",
    "Return your response as a JSON blob with 'name' and 'arguments' keys.\n",
    "\n",
    "The `arguments` should be a dictionary, with keys corresponding \n",
    "to the argument names and the values corresponding to the requested values.\n",
    "\n",
    "ONLY return a JSON blob. Do not include any other text.\n",
    "\"\"\"\n",
    "\n",
    "prompt = ChatPromptTemplate.from_messages([\n",
    "    (\"system\", system_prompt),\n",
    "    (\"user\", \"{input}\")\n",
    "])\n",
    "\n",
    "chain = prompt | model | parser\n"
   ]
  },
  {
   "cell_type": "code",
   "execution_count": 16,
   "id": "94bae47d",
   "metadata": {},
   "outputs": [],
   "source": [
    "# ! ollama run llama3\n"
   ]
  },
  {
   "cell_type": "code",
   "execution_count": 17,
   "id": "f8623e03-60eb-4439-b57b-ecbcebc61b58",
   "metadata": {},
   "outputs": [
    {
     "name": "stdout",
     "output_type": "stream",
     "text": [
      "{'name': 'add', 'arguments': {'x': 3, 'y': 1132}}\n"
     ]
    }
   ],
   "source": [
    "result = chain.invoke({\"input\": \"what's 3 plus 1132\"})\n",
    "\n",
    "print(result)\n"
   ]
  },
  {
   "cell_type": "code",
   "execution_count": 18,
   "id": "9553be0c",
   "metadata": {},
   "outputs": [
    {
     "name": "stdout",
     "output_type": "stream",
     "text": [
      "Using tool: add with {'x': 3, 'y': 1132}\n"
     ]
    }
   ],
   "source": [
    "if isinstance(result, dict) and \"name\" in result and \"arguments\" in result:\n",
    "    print(f\"Using tool: {result['name']} with {result['arguments']}\")\n"
   ]
  },
  {
   "cell_type": "markdown",
   "id": "14df2cd5-b6fa-4b10-892d-e8692c7931e5",
   "metadata": {},
   "source": [
    "## Adding an output parser\n",
    "\n",
    "We'll use the `JsonOutputParser` for parsing our models output to JSON."
   ]
  },
  {
   "cell_type": "code",
   "execution_count": 19,
   "id": "f129f5bd-127c-4c95-8f34-8f437da7ca8f",
   "metadata": {},
   "outputs": [
    {
     "data": {
      "text/plain": [
       "{'name': 'multiply', 'arguments': {'x': 13, 'y': 4}}"
      ]
     },
     "execution_count": 19,
     "metadata": {},
     "output_type": "execute_result"
    }
   ],
   "source": [
    "from langchain_core.output_parsers import JsonOutputParser\n",
    "\n",
    "chain = prompt | model | JsonOutputParser()\n",
    "chain.invoke({\"input\": \"what's thirteen times 4\"})"
   ]
  },
  {
   "cell_type": "markdown",
   "id": "e1f08255-f146-4f4a-be43-5c21c1d3ae83",
   "metadata": {},
   "source": [
    ":::{.callout-important}\n",
    "\n",
    "🎉 Amazing! 🎉 We now instructed our model on how to **request** that a tool be invoked.\n",
    "\n",
    "Now, let's create some logic to actually run the tool!\n",
    ":::"
   ]
  },
  {
   "cell_type": "markdown",
   "id": "8e29dd4c-8eb5-457f-92d1-8add076404dc",
   "metadata": {},
   "source": [
    "## Invoking the tool 🏃\n",
    "\n",
    "Now that the model can request that a tool be invoked, we need to write a function that can actually invoke \n",
    "the tool.\n",
    "\n",
    "The function will select the appropriate tool by name, and pass to it the arguments chosen by the model."
   ]
  },
  {
   "cell_type": "code",
   "execution_count": 20,
   "id": "faee95e0-4095-4310-991f-9e9465c6738e",
   "metadata": {},
   "outputs": [],
   "source": [
    "from typing import Any, Dict, Optional, TypedDict\n",
    "\n",
    "from langchain_core.runnables import RunnableConfig\n",
    "\n",
    "\n",
    "class ToolCallRequest(TypedDict):\n",
    "    \"\"\"A typed dict that shows the inputs into the invoke_tool function.\"\"\"\n",
    "\n",
    "    name: str\n",
    "    arguments: Dict[str, Any]\n",
    "\n",
    "\n",
    "def invoke_tool(\n",
    "    tool_call_request: ToolCallRequest, config: Optional[RunnableConfig] = None\n",
    "):\n",
    "    \"\"\"A function that we can use the perform a tool invocation.\n",
    "\n",
    "    Args:\n",
    "        tool_call_request: a dict that contains the keys name and arguments.\n",
    "            The name must match the name of a tool that exists.\n",
    "            The arguments are the arguments to that tool.\n",
    "        config: This is configuration information that LangChain uses that contains\n",
    "            things like callbacks, metadata, etc.See LCEL documentation about RunnableConfig.\n",
    "\n",
    "    Returns:\n",
    "        output from the requested tool\n",
    "    \"\"\"\n",
    "    tool_name_to_tool = {tool.name: tool for tool in tools}\n",
    "    name = tool_call_request[\"name\"]\n",
    "    requested_tool = tool_name_to_tool[name]\n",
    "    return requested_tool.invoke(tool_call_request[\"arguments\"], config=config)"
   ]
  },
  {
   "cell_type": "markdown",
   "id": "f4957532-9e0c-47f6-bb62-0fd789ac1d3e",
   "metadata": {},
   "source": [
    "Let's test this out 🧪!"
   ]
  },
  {
   "cell_type": "code",
   "execution_count": 21,
   "id": "d0ea3b2a-8fb2-4016-83c8-a5d3e78fedbc",
   "metadata": {},
   "outputs": [
    {
     "data": {
      "text/plain": [
       "15.0"
      ]
     },
     "execution_count": 21,
     "metadata": {},
     "output_type": "execute_result"
    }
   ],
   "source": [
    "invoke_tool({\"name\": \"multiply\", \"arguments\": {\"x\": 3, \"y\": 5}})"
   ]
  },
  {
   "cell_type": "markdown",
   "id": "715af6e1-935d-4bc0-a3d2-646ecf8a329b",
   "metadata": {},
   "source": [
    "## Let's put it together\n",
    "\n",
    "Let's put it together into a chain that creates a calculator with add and multiplication capabilities."
   ]
  },
  {
   "cell_type": "code",
   "execution_count": 22,
   "id": "0555b384-fde6-4404-86e0-7ea199003d58",
   "metadata": {},
   "outputs": [
    {
     "data": {
      "text/plain": [
       "53.83784653"
      ]
     },
     "execution_count": 22,
     "metadata": {},
     "output_type": "execute_result"
    }
   ],
   "source": [
    "chain = prompt | model | JsonOutputParser() | invoke_tool\n",
    "chain.invoke({\"input\": \"what's thirteen times 4.14137281\"})"
   ]
  },
  {
   "cell_type": "markdown",
   "id": "b4a9c5aa-f60a-4017-af6f-1ff6e04bfb61",
   "metadata": {},
   "source": [
    "## Returning tool inputs\n",
    "\n",
    "It can be helpful to return not only tool outputs but also tool inputs. We can easily do this with LCEL by `RunnablePassthrough.assign`-ing the tool output. This will take whatever the input is to the RunnablePassrthrough components (assumed to be a dictionary) and add a key to it while still passing through everything that's currently in the input:"
   ]
  },
  {
   "cell_type": "code",
   "execution_count": 23,
   "id": "45404406-859d-4caa-8b9d-5838162c80a0",
   "metadata": {},
   "outputs": [
    {
     "data": {
      "text/plain": [
       "{'name': 'multiply',\n",
       " 'arguments': {'x': 13, 'y': 4.14137281},\n",
       " 'output': 53.83784653}"
      ]
     },
     "execution_count": 23,
     "metadata": {},
     "output_type": "execute_result"
    }
   ],
   "source": [
    "from langchain_core.runnables import RunnablePassthrough\n",
    "\n",
    "chain = (\n",
    "    prompt | model | JsonOutputParser() | RunnablePassthrough.assign(output=invoke_tool)\n",
    ")\n",
    "chain.invoke({\"input\": \"what's thirteen times 4.14137281\"})"
   ]
  },
  {
   "cell_type": "markdown",
   "id": "1797fe82-ea35-4cba-834a-1caf9740d184",
   "metadata": {},
   "source": [
    "## What's next?\n",
    "\n",
    "This how-to guide shows the \"happy path\" when the model correctly outputs all the required tool information.\n",
    "\n",
    "In reality, if you're using more complex tools, you will start encountering errors from the model, especially for models that have not been fine tuned for tool calling and for less capable models.\n",
    "\n",
    "You will need to be prepared to add strategies to improve the output from the model; e.g.,\n",
    "\n",
    "1. Provide few shot examples.\n",
    "2. Add error handling (e.g., catch the exception and feed it back to the LLM to ask it to correct its previous output)."
   ]
  },
  {
   "cell_type": "code",
   "execution_count": null,
   "id": "67b0f6a5",
   "metadata": {},
   "outputs": [],
   "source": []
  },
  {
   "cell_type": "code",
   "execution_count": 24,
   "id": "ca84a5a2",
   "metadata": {},
   "outputs": [],
   "source": [
    "# ! ollama pull llama3\n"
   ]
  },
  {
   "cell_type": "code",
   "execution_count": 25,
   "id": "265f22de",
   "metadata": {},
   "outputs": [
    {
     "name": "stderr",
     "output_type": "stream",
     "text": [
      "C:\\Users\\gooor\\AppData\\Local\\Temp\\ipykernel_14844\\2175248387.py:7: LangChainDeprecationWarning: The class `ChatOllama` was deprecated in LangChain 0.3.1 and will be removed in 1.0.0. An updated version of the class exists in the :class:`~langchain-ollama package and should be used instead. To use it run `pip install -U :class:`~langchain-ollama` and import as `from :class:`~langchain_ollama import ChatOllama``.\n",
      "  model = ChatOllama(model=\"llama3\")\n"
     ]
    },
    {
     "name": "stdout",
     "output_type": "stream",
     "text": [
      " Final Parsed Output:\n",
      "{'name': 'multiply', 'arguments': {'x': 12, 'y': 3}}\n"
     ]
    }
   ],
   "source": [
    "from langchain_core.prompts import ChatPromptTemplate\n",
    "from langchain_community.chat_models import ChatOllama\n",
    "from langchain_core.output_parsers import JsonOutputParser\n",
    "from langchain_core.exceptions import OutputParserException\n",
    "from langchain_core.messages import HumanMessage, SystemMessage\n",
    "\n",
    "model = ChatOllama(model=\"llama3\")\n",
    "\n",
    "parser = JsonOutputParser()\n",
    "\n",
    "few_shot_examples = \"\"\"\n",
    "User: what's 3 plus 5?\n",
    "Response: {{\\\"name\\\": \\\"add\\\", \\\"arguments\\\": {{\\\"x\\\": 3, \\\"y\\\": 5}}}}\n",
    "\n",
    "User: multiply 7 by 4\n",
    "Response: {{\\\"name\\\": \\\"multiply\\\", \\\"arguments\\\": {{\\\"x\\\": 7, \\\"y\\\": 4}}}}\n",
    "\"\"\"\n",
    "\n",
    "system_prompt = f\"\"\"\n",
    "You are an assistant that selects the correct tool for math problems.\n",
    "\n",
    "Here are the tools you can use:\n",
    "- add: Add two numbers together. Takes x and y.\n",
    "- multiply: Multiply two numbers together. Takes x and y.\n",
    "\n",
    "Return a JSON object with 'name' and 'arguments'.\n",
    "\n",
    "Examples:\n",
    "{few_shot_examples}\n",
    "\"\"\"\n",
    "\n",
    "prompt = ChatPromptTemplate.from_messages([\n",
    "    (\"system\", system_prompt),\n",
    "    (\"user\", \"{input}\")\n",
    "])\n",
    "\n",
    "chain = prompt | model\n",
    "\n",
    "def run_chain_with_correction(user_input):\n",
    "    raw_result = chain.invoke({\"input\": user_input})\n",
    "    try:\n",
    "        return parser.parse(raw_result.content)\n",
    "    except OutputParserException as e:\n",
    "        print(\" Error in JSON, asking model to fix it.\")\n",
    "        fix_prompt = f\"The output had an error: {str(e)}. Please fix the JSON and return only valid JSON.\"\n",
    "        retry_result = model.invoke([\n",
    "            SystemMessage(content=fix_prompt),\n",
    "            HumanMessage(content=raw_result.content)\n",
    "        ])\n",
    "        return parser.parse(retry_result.content)\n",
    "\n",
    "result = run_chain_with_correction(\"what's 12 times 3\")\n",
    "print(\" Final Parsed Output:\")\n",
    "print(result)\n"
   ]
  },
  {
   "cell_type": "code",
   "execution_count": 34,
   "id": "3512e2b4",
   "metadata": {},
   "outputs": [
    {
     "name": "stdout",
     "output_type": "stream",
     "text": [
      "Testing: Solve the division of 20 by 5.\n",
      "Final Parsed Output:\n",
      "{'name': 'type_1', 'arguments': {'x': 20, 'y': 5}}\n",
      "Tool Output:\n",
      "To calculate the division of 20 by 5, we use the equation 20 / 5. The result is: 4.00.\n",
      "========================================\n",
      "Testing: What is the equation for force in physics?\n",
      "Final Parsed Output:\n",
      "{'name': 'type_2', 'arguments': {'topic': 'force'}}\n",
      "Tool Output:\n",
      "The equation for force in physics is F = m * a, where F is force, m is mass, and a is acceleration.\n",
      "========================================\n",
      "Testing: Write the equation for water dissociation in chemistry.\n",
      "Final Parsed Output:\n",
      "{'name': 'type_3', 'arguments': {'topic': 'water dissociation'}}\n",
      "Tool Output:\n",
      "The equation for water dissociation in chemistry is H2O ⇌ H+ + OH-, where water dissociates into hydrogen ions and hydroxide ions.\n",
      "========================================\n",
      "Testing: How do you calculate the speed of an object using force?\n",
      "Final Parsed Output:\n",
      "{'name': 'type_2', 'arguments': {'topic': 'speed from force'}}\n",
      "Tool Output:\n",
      "The equation for force in physics is F = m * a, where F is force, m is mass, and a is acceleration.\n",
      "========================================\n",
      "Testing: What happens during a chemical reaction with acids and bases?\n",
      "Final Parsed Output:\n",
      "{'name': 'type_3', 'arguments': {'topic': 'acid-base reactions'}}\n",
      "Tool Output:\n",
      "The equation for water dissociation in chemistry is H2O ⇌ H+ + OH-, where water dissociates into hydrogen ions and hydroxide ions.\n",
      "========================================\n"
     ]
    }
   ],
   "source": [
    "from langchain_core.prompts import ChatPromptTemplate\n",
    "from langchain_community.chat_models import ChatOllama\n",
    "from langchain_core.output_parsers import JsonOutputParser\n",
    "from langchain_core.exceptions import OutputParserException\n",
    "from langchain_core.messages import HumanMessage, SystemMessage\n",
    "from langchain.tools import tool\n",
    "\n",
    "\n",
    "@tool\n",
    "def type_1(x: int, y: int) -> str:\n",
    "    \"\"\"\n",
    "    Used for division-related topics. This tool calculates the division of x by y.\n",
    "    \"\"\"\n",
    "    result = x / y\n",
    "    return f\"To calculate the division of {x} by {y}, we use the equation {x} / {y}. The result is: {result:.2f}.\"\n",
    "\n",
    "\n",
    "@tool\n",
    "def type_2(topic: str) -> str:\n",
    "    \"\"\"\n",
    "    Used for physics-related topics. This tool provides the equation for force in physics.\n",
    "    \"\"\"\n",
    "    return \"The equation for force in physics is F = m * a, where F is force, m is mass, and a is acceleration.\"\n",
    "\n",
    "\n",
    "@tool\n",
    "def type_3(topic: str) -> str:\n",
    "    \"\"\"\n",
    "    Used for chemistry-related topics. This tool provides the equation for water dissociation in chemistry.\n",
    "    \"\"\"\n",
    "    return \"The equation for water dissociation in chemistry is H2O ⇌ H+ + OH-, where water dissociates into hydrogen ions and hydroxide ions.\"\n",
    "\n",
    "\n",
    "model = ChatOllama(model=\"llama3\")\n",
    "\n",
    "# JSON parser\n",
    "parser = JsonOutputParser()\n",
    "\n",
    "few_shot_examples = \"\"\"\n",
    "User: Solve the division of 20 by 5.\n",
    "Response: {{\\\"name\\\": \\\"type_1\\\", \\\"arguments\\\": {{\\\"x\\\": 20, \\\"y\\\": 5}}}}\n",
    "\n",
    "User: What is the equation for force in physics?\n",
    "Response: {{\\\"name\\\": \\\"type_2\\\", \\\"arguments\\\": {{\\\"topic\\\": \\\"force\\\"}}}}\n",
    "\n",
    "User: Write the equation for water dissociation in chemistry.\n",
    "Response: {{\\\"name\\\": \\\"type_3\\\", \\\"arguments\\\": {{\\\"topic\\\": \\\"water dissociation\\\"}}}}\n",
    "\n",
    "User: How do you calculate the speed of an object using force?\n",
    "Response: {{\\\"name\\\": \\\"type_2\\\", \\\"arguments\\\": {{\\\"topic\\\": \\\"speed from force\\\"}}}}\n",
    "\n",
    "User: What happens during a chemical reaction with acids and bases?\n",
    "Response: {{\\\"name\\\": \\\"type_3\\\", \\\"arguments\\\": {{\\\"topic\\\": \\\"acid-base reactions\\\"}}}}\n",
    "\"\"\"\n",
    "\n",
    "system_prompt = f\"\"\"\n",
    "You are an assistant that selects the correct tool based on the topic.\n",
    "\n",
    "Here are the tools you can use:\n",
    "- type_1: For division-related topics (e.g., mathematical division tasks).\n",
    "- type_2: For physics-related topics (e.g., physics equations, concepts).\n",
    "- type_3: For chemistry-related topics (e.g., chemical equations, reactions).\n",
    "\n",
    "Return a JSON object with 'name' and 'arguments'.\n",
    "\n",
    "Examples:\n",
    "{few_shot_examples}\n",
    "\"\"\"\n",
    "\n",
    "prompt = ChatPromptTemplate.from_messages([\n",
    "    (\"system\", system_prompt),\n",
    "    (\"user\", \"{input}\")\n",
    "])\n",
    "\n",
    "chain = prompt | model\n",
    "\n",
    "def run_chain_with_correction(user_input):\n",
    "    raw_result = chain.invoke({\"input\": user_input})\n",
    "    try:\n",
    "        return parser.parse(raw_result.content)\n",
    "    except OutputParserException as e:\n",
    "        print(\"Error in JSON, asking model to fix it.\")\n",
    "        fix_prompt = f\"The output had an error: {str(e)}. Please fix the JSON and return only valid JSON.\"\n",
    "        retry_result = model.invoke([\n",
    "            SystemMessage(content=fix_prompt),\n",
    "            HumanMessage(content=raw_result.content)\n",
    "        ])\n",
    "        return parser.parse(retry_result.content)\n",
    "\n",
    "\n",
    "if __name__ == \"__main__\":\n",
    "    test_inputs = [\n",
    "        \"Solve the division of 20 by 5.\",\n",
    "        \"What is the equation for force in physics?\",\n",
    "        \"Write the equation for water dissociation in chemistry.\",\n",
    "        \"How do you calculate the speed of an object using force?\",\n",
    "        \"What happens during a chemical reaction with acids and bases?\"\n",
    "    ]\n",
    "    \n",
    "    for user_input in test_inputs:\n",
    "        print(f\"Testing: {user_input}\")\n",
    "        result = run_chain_with_correction(user_input)\n",
    "        print(\"Final Parsed Output:\")\n",
    "        print(result)\n",
    "\n",
    "        tool_map = {\n",
    "            \"type_1\": type_1,\n",
    "            \"type_2\": type_2,\n",
    "            \"type_3\": type_3\n",
    "        }\n",
    "\n",
    "        tool_name = result[\"name\"]\n",
    "        arguments = result[\"arguments\"]\n",
    "\n",
    "        output = tool_map[tool_name].invoke(arguments)\n",
    "\n",
    "        print(\"Tool Output:\")\n",
    "        print(output)\n",
    "        print(\"=\"*40)\n"
   ]
  }
 ],
 "metadata": {
  "kernelspec": {
   "display_name": "Python 3",
   "language": "python",
   "name": "python3"
  },
  "language_info": {
   "codemirror_mode": {
    "name": "ipython",
    "version": 3
   },
   "file_extension": ".py",
   "mimetype": "text/x-python",
   "name": "python",
   "nbconvert_exporter": "python",
   "pygments_lexer": "ipython3",
   "version": "3.11.9"
  }
 },
 "nbformat": 4,
 "nbformat_minor": 5
}
